{
 "cells": [
  {
   "cell_type": "code",
   "execution_count": 1,
   "metadata": {},
   "outputs": [
    {
     "name": "stderr",
     "output_type": "stream",
     "text": [
      "/Users/benjaminmcclune/anaconda3/envs/test1/lib/python3.7/site-packages/fuzzywuzzy/fuzz.py:11: UserWarning: Using slow pure-python SequenceMatcher. Install python-Levenshtein to remove this warning\n",
      "  warnings.warn('Using slow pure-python SequenceMatcher. Install python-Levenshtein to remove this warning')\n"
     ]
    }
   ],
   "source": [
    "#import required modules for script\n",
    "import pandas as pd\n",
    "import re\n",
    "#%pip install fuzzywuzzy\n",
    "from fuzzywuzzy import fuzz, process"
   ]
  },
  {
   "cell_type": "code",
   "execution_count": 2,
   "metadata": {},
   "outputs": [],
   "source": [
    "#build sample dataframe\n",
    "ex_data = {\n",
    "    \"NAME\": [\"office 2018\", \"Office Office\", \"         Excel 2019\", None, \"office 2018\", \"office\"],\n",
    "    \"PUBLISHER\": [\"Microsoft\", \"Microsoft Inc.\", \"microsoft\", \"microsoft\", \"Microsoft\", \"microsoft\"], \n",
    "    \"VERSION\": [2018, \"ms Office 2018\", 2019, \"vmware1.1\", 2018, 2018],\n",
    "    \"DIS_SOURCE\": [\"SCCM\",\"SCCM\",\"FNMS\",\"\", \"SCCM\", \"SCCM\"]\n",
    "}\n",
    "#build the dataframe\n",
    "ex_df = pd.DataFrame(data=ex_data)"
   ]
  },
  {
   "cell_type": "code",
   "execution_count": 3,
   "metadata": {},
   "outputs": [
    {
     "data": {
      "text/plain": [
       "office    3\n",
       "Office    2\n",
       "2018      2\n",
       "2019      1\n",
       "Excel     1\n",
       "dtype: int64"
      ]
     },
     "execution_count": 3,
     "metadata": {},
     "output_type": "execute_result"
    }
   ],
   "source": [
    "#Term frequency example, you could also do Term Frequency-Inverse Document frequency\n",
    "ex_df.NAME.str.split(expand=True).stack().value_counts()"
   ]
  },
  {
   "cell_type": "code",
   "execution_count": 4,
   "metadata": {},
   "outputs": [
    {
     "name": "stdout",
     "output_type": "stream",
     "text": [
      "Word similarity is:  83\n"
     ]
    }
   ],
   "source": [
    "#Fuzzy matching example \n",
    "print(\"Word similarity is: \", fuzz.ratio(\"hello!\", \"hallo!\"))"
   ]
  },
  {
   "cell_type": "code",
   "execution_count": 5,
   "metadata": {},
   "outputs": [
    {
     "data": {
      "text/plain": [
       "[('Microsoft', 'MFR'), ('Office', 'PRD'), ('2019', 'VER')]"
      ]
     },
     "execution_count": 5,
     "metadata": {},
     "output_type": "execute_result"
    }
   ],
   "source": [
    "#word classifier\n",
    "#build sample dataframe\n",
    "tagged_words = [(\"Microsoft\", \"MFR\"),(\"Office\", \"PRD\"), (\"2019\", \"VER\")]\n",
    "tagged_words"
   ]
  },
  {
   "cell_type": "code",
   "execution_count": null,
   "metadata": {},
   "outputs": [],
   "source": []
  }
 ],
 "metadata": {
  "kernelspec": {
   "display_name": "Python 3",
   "language": "python",
   "name": "python3"
  },
  "language_info": {
   "codemirror_mode": {
    "name": "ipython",
    "version": 3
   },
   "file_extension": ".py",
   "mimetype": "text/x-python",
   "name": "python",
   "nbconvert_exporter": "python",
   "pygments_lexer": "ipython3",
   "version": "3.7.9"
  }
 },
 "nbformat": 4,
 "nbformat_minor": 4
}
